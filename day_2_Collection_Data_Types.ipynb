{
  "nbformat": 4,
  "nbformat_minor": 0,
  "metadata": {
    "colab": {
      "name": "day 2 Collection Data Types.ipynb",
      "provenance": [],
      "collapsed_sections": [
        "21SB62CO04ff"
      ],
      "authorship_tag": "ABX9TyO22QwWygp2TlguEiC4GzNy",
      "include_colab_link": true
    },
    "kernelspec": {
      "name": "python3",
      "display_name": "Python 3"
    },
    "language_info": {
      "name": "python"
    }
  },
  "cells": [
    {
      "cell_type": "markdown",
      "metadata": {
        "id": "view-in-github",
        "colab_type": "text"
      },
      "source": [
        "<a href=\"https://colab.research.google.com/github/ChristopherThorne714/Winter-2022-JJay-TTP/blob/main/day_2_Collection_Data_Types.ipynb\" target=\"_parent\"><img src=\"https://colab.research.google.com/assets/colab-badge.svg\" alt=\"Open In Colab\"/></a>"
      ]
    },
    {
      "cell_type": "markdown",
      "source": [
        "# Collection Data Types\n",
        "\n",
        "Lists, Dictionaries, & Tuples\n",
        "\n",
        "##Lists\n",
        "* Lists can be thought of the most general version of a sequence in Python. Unlike strings, they are mutable, meaning the elements inside a list can be changed! "
      ],
      "metadata": {
        "id": "wzy9x1a00z-X"
      }
    },
    {
      "cell_type": "code",
      "source": [
        " # Assign a list to a variable named my_List\n",
        " my_List = [1,2,3]"
      ],
      "metadata": {
        "id": "Qht-7DYs038D"
      },
      "execution_count": 104,
      "outputs": []
    },
    {
      "cell_type": "code",
      "source": [
        "my_List"
      ],
      "metadata": {
        "colab": {
          "base_uri": "https://localhost:8080/"
        },
        "id": "xmPB1DUE04mf",
        "outputId": "08b112eb-b9aa-403a-dedf-275487a9b8b7"
      },
      "execution_count": 105,
      "outputs": [
        {
          "output_type": "execute_result",
          "data": {
            "text/plain": [
              "[1, 2, 3]"
            ]
          },
          "metadata": {},
          "execution_count": 105
        }
      ]
    },
    {
      "cell_type": "code",
      "source": [
        "my_List = ['A string', 23, 100.232, 'o']"
      ],
      "metadata": {
        "id": "zsf-nyxl04kD"
      },
      "execution_count": 106,
      "outputs": []
    },
    {
      "cell_type": "code",
      "source": [
        "len(my_List)"
      ],
      "metadata": {
        "colab": {
          "base_uri": "https://localhost:8080/"
        },
        "id": "7NeGC3LB04h2",
        "outputId": "aea8f304-f3ae-44bc-ca6b-efb181093584"
      },
      "execution_count": 107,
      "outputs": [
        {
          "output_type": "execute_result",
          "data": {
            "text/plain": [
              "4"
            ]
          },
          "metadata": {},
          "execution_count": 107
        }
      ]
    },
    {
      "cell_type": "markdown",
      "source": [
        "# Indexing and Slicing\n",
        "Indexing and slicing"
      ],
      "metadata": {
        "id": "21SB62CO04ff"
      }
    },
    {
      "cell_type": "code",
      "source": [
        "my_List = ['one', 'two', 'three', 4, 5]"
      ],
      "metadata": {
        "id": "2SQHSI882SvF"
      },
      "execution_count": 108,
      "outputs": []
    },
    {
      "cell_type": "code",
      "source": [
        "#grab index 1 and everything past it\n",
        "my_List[1:]"
      ],
      "metadata": {
        "colab": {
          "base_uri": "https://localhost:8080/"
        },
        "id": "8EFJvSlH2StI",
        "outputId": "f9529a1b-d85a-43ce-f7d8-79d363e5008d"
      },
      "execution_count": 109,
      "outputs": [
        {
          "output_type": "execute_result",
          "data": {
            "text/plain": [
              "['two', 'three', 4, 5]"
            ]
          },
          "metadata": {},
          "execution_count": 109
        }
      ]
    },
    {
      "cell_type": "code",
      "source": [
        "# Grab everything UP TO index 3 \n",
        "my_List[:3]"
      ],
      "metadata": {
        "colab": {
          "base_uri": "https://localhost:8080/"
        },
        "id": "IawJjk9C2SrV",
        "outputId": "ad88a041-0fb3-4174-cbab-09335d143cee"
      },
      "execution_count": 110,
      "outputs": [
        {
          "output_type": "execute_result",
          "data": {
            "text/plain": [
              "['one', 'two', 'three']"
            ]
          },
          "metadata": {},
          "execution_count": 110
        }
      ]
    },
    {
      "cell_type": "code",
      "source": [
        "my_List"
      ],
      "metadata": {
        "colab": {
          "base_uri": "https://localhost:8080/"
        },
        "id": "Hmcj933h2So9",
        "outputId": "bf73f8db-c7a4-469e-e18e-a42d27ce3eaf"
      },
      "execution_count": 111,
      "outputs": [
        {
          "output_type": "execute_result",
          "data": {
            "text/plain": [
              "['one', 'two', 'three', 4, 5]"
            ]
          },
          "metadata": {},
          "execution_count": 111
        }
      ]
    },
    {
      "cell_type": "code",
      "source": [
        "# we can use + to concatenate lists, just like we did for strings.\n",
        "my_List + ['new item']"
      ],
      "metadata": {
        "colab": {
          "base_uri": "https://localhost:8080/"
        },
        "id": "3Is6Wg9G2Smj",
        "outputId": "ff17732c-a8d6-4ef7-e9d4-0dedc454e840"
      },
      "execution_count": 112,
      "outputs": [
        {
          "output_type": "execute_result",
          "data": {
            "text/plain": [
              "['one', 'two', 'three', 4, 5, 'new item']"
            ]
          },
          "metadata": {},
          "execution_count": 112
        }
      ]
    },
    {
      "cell_type": "code",
      "source": [
        "# Note: This doesn't actually change the original list!\n",
        "my_List"
      ],
      "metadata": {
        "colab": {
          "base_uri": "https://localhost:8080/"
        },
        "id": "PW4xN08Z2Skm",
        "outputId": "47a441e6-4aef-4799-d223-16f937d89544"
      },
      "execution_count": 113,
      "outputs": [
        {
          "output_type": "execute_result",
          "data": {
            "text/plain": [
              "['one', 'two', 'three', 4, 5]"
            ]
          },
          "metadata": {},
          "execution_count": 113
        }
      ]
    },
    {
      "cell_type": "code",
      "source": [
        "#WWe would have to reassign the list to maake the change permanent. \n",
        "# Reassign\n",
        "my_List = my_List + ['permanent new item']"
      ],
      "metadata": {
        "id": "FDQsDn2W2Sii"
      },
      "execution_count": 114,
      "outputs": []
    },
    {
      "cell_type": "code",
      "source": [
        "my_List"
      ],
      "metadata": {
        "colab": {
          "base_uri": "https://localhost:8080/"
        },
        "id": "CO1dRRO24Lyc",
        "outputId": "e05b7d9e-bd0b-4de4-ee61-f37ea69ddb7f"
      },
      "execution_count": 115,
      "outputs": [
        {
          "output_type": "execute_result",
          "data": {
            "text/plain": [
              "['one', 'two', 'three', 4, 5, 'permanent new item']"
            ]
          },
          "metadata": {},
          "execution_count": 115
        }
      ]
    },
    {
      "cell_type": "code",
      "source": [
        "my_List.append('something')"
      ],
      "metadata": {
        "id": "ah0e092g4Mem"
      },
      "execution_count": 116,
      "outputs": []
    },
    {
      "cell_type": "code",
      "source": [
        "my_List"
      ],
      "metadata": {
        "colab": {
          "base_uri": "https://localhost:8080/"
        },
        "id": "iinlVJ1u4Mck",
        "outputId": "46407b11-b217-49c5-b2eb-3bed35a78ea7"
      },
      "execution_count": 117,
      "outputs": [
        {
          "output_type": "execute_result",
          "data": {
            "text/plain": [
              "['one', 'two', 'three', 4, 5, 'permanent new item', 'something']"
            ]
          },
          "metadata": {},
          "execution_count": 117
        }
      ]
    },
    {
      "cell_type": "code",
      "source": [
        "# Make the list double\n",
        "my_List * 2"
      ],
      "metadata": {
        "colab": {
          "base_uri": "https://localhost:8080/"
        },
        "id": "Sq7lT37U4Mat",
        "outputId": "ed1551a5-7408-4c21-ee49-b95a77d3f4be"
      },
      "execution_count": 118,
      "outputs": [
        {
          "output_type": "execute_result",
          "data": {
            "text/plain": [
              "['one',\n",
              " 'two',\n",
              " 'three',\n",
              " 4,\n",
              " 5,\n",
              " 'permanent new item',\n",
              " 'something',\n",
              " 'one',\n",
              " 'two',\n",
              " 'three',\n",
              " 4,\n",
              " 5,\n",
              " 'permanent new item',\n",
              " 'something']"
            ]
          },
          "metadata": {},
          "execution_count": 118
        }
      ]
    },
    {
      "cell_type": "code",
      "source": [
        "num = [1,2,3,4,5,6]"
      ],
      "metadata": {
        "id": "pMPeNjca4MYy"
      },
      "execution_count": 119,
      "outputs": []
    },
    {
      "cell_type": "code",
      "source": [
        "num"
      ],
      "metadata": {
        "colab": {
          "base_uri": "https://localhost:8080/"
        },
        "id": "Jbjryqs_4MWs",
        "outputId": "19f39bea-5817-47c4-f258-1563fea1ca3d"
      },
      "execution_count": 120,
      "outputs": [
        {
          "output_type": "execute_result",
          "data": {
            "text/plain": [
              "[1, 2, 3, 4, 5, 6]"
            ]
          },
          "metadata": {},
          "execution_count": 120
        }
      ]
    },
    {
      "cell_type": "code",
      "source": [
        "num[-1] = 9"
      ],
      "metadata": {
        "id": "r7tMmsnz4MUq"
      },
      "execution_count": 121,
      "outputs": []
    },
    {
      "cell_type": "code",
      "source": [
        "num"
      ],
      "metadata": {
        "colab": {
          "base_uri": "https://localhost:8080/"
        },
        "id": "XmPY_dNm4MSc",
        "outputId": "97a33707-940e-4fb8-c910-b24d25bee37a"
      },
      "execution_count": 122,
      "outputs": [
        {
          "output_type": "execute_result",
          "data": {
            "text/plain": [
              "[1, 2, 3, 4, 5, 9]"
            ]
          },
          "metadata": {},
          "execution_count": 122
        }
      ]
    },
    {
      "cell_type": "markdown",
      "source": [
        "# Basic list methods"
      ],
      "metadata": {
        "id": "4zhGy0ex4YJR"
      }
    },
    {
      "cell_type": "code",
      "source": [
        "l = [1,2,3]"
      ],
      "metadata": {
        "id": "Wx1suhan4YHE"
      },
      "execution_count": 123,
      "outputs": []
    },
    {
      "cell_type": "code",
      "source": [
        "#append\n",
        "l.append(4)"
      ],
      "metadata": {
        "id": "Ix9g8Fk_4YFW"
      },
      "execution_count": 124,
      "outputs": []
    },
    {
      "cell_type": "code",
      "source": [
        "l"
      ],
      "metadata": {
        "colab": {
          "base_uri": "https://localhost:8080/"
        },
        "id": "64n5HwLo6Ab_",
        "outputId": "26756a45-3859-4765-9ae5-7dd9f2012414"
      },
      "execution_count": 125,
      "outputs": [
        {
          "output_type": "execute_result",
          "data": {
            "text/plain": [
              "[1, 2, 3, 4]"
            ]
          },
          "metadata": {},
          "execution_count": 125
        }
      ]
    },
    {
      "cell_type": "code",
      "source": [
        "l.pop(0)"
      ],
      "metadata": {
        "colab": {
          "base_uri": "https://localhost:8080/"
        },
        "id": "Q1N4OOTq4YDA",
        "outputId": "26907bd8-ffcf-4651-b803-db7b8acd017c"
      },
      "execution_count": 126,
      "outputs": [
        {
          "output_type": "execute_result",
          "data": {
            "text/plain": [
              "1"
            ]
          },
          "metadata": {},
          "execution_count": 126
        }
      ]
    },
    {
      "cell_type": "code",
      "source": [
        "l"
      ],
      "metadata": {
        "colab": {
          "base_uri": "https://localhost:8080/"
        },
        "id": "WdB2Usx24X-8",
        "outputId": "8389ce15-e3ee-45aa-aaee-de43a53761ef"
      },
      "execution_count": 127,
      "outputs": [
        {
          "output_type": "execute_result",
          "data": {
            "text/plain": [
              "[2, 3, 4]"
            ]
          },
          "metadata": {},
          "execution_count": 127
        }
      ]
    },
    {
      "cell_type": "code",
      "source": [
        "len(l)"
      ],
      "metadata": {
        "colab": {
          "base_uri": "https://localhost:8080/"
        },
        "id": "X3jshj3f5LGG",
        "outputId": "42fdf5fa-4cc6-47e1-be04-24719f520f72"
      },
      "execution_count": 128,
      "outputs": [
        {
          "output_type": "execute_result",
          "data": {
            "text/plain": [
              "3"
            ]
          },
          "metadata": {},
          "execution_count": 128
        }
      ]
    },
    {
      "cell_type": "code",
      "source": [
        "#Use pop to \"pop off\" an item from the list. By default the pop takes off the last index, but you caan specify which index to pop off\n",
        "l.pop()"
      ],
      "metadata": {
        "colab": {
          "base_uri": "https://localhost:8080/"
        },
        "id": "Wti9zKWh5LEg",
        "outputId": "18d5888d-d2c4-48e5-ae63-af0dc8084cbc"
      },
      "execution_count": 129,
      "outputs": [
        {
          "output_type": "execute_result",
          "data": {
            "text/plain": [
              "4"
            ]
          },
          "metadata": {},
          "execution_count": 129
        }
      ]
    },
    {
      "cell_type": "markdown",
      "source": [
        "### The sort and reverse methods"
      ],
      "metadata": {
        "id": "xo3vxMkr5LCa"
      }
    },
    {
      "cell_type": "code",
      "source": [
        "new_list = ['a','e','x','b','c']\n",
        "new_list"
      ],
      "metadata": {
        "colab": {
          "base_uri": "https://localhost:8080/"
        },
        "id": "ying3EsU6oAR",
        "outputId": "5f9e4ea3-a9d0-442d-da83-9f467213c5ec"
      },
      "execution_count": 130,
      "outputs": [
        {
          "output_type": "execute_result",
          "data": {
            "text/plain": [
              "['a', 'e', 'x', 'b', 'c']"
            ]
          },
          "metadata": {},
          "execution_count": 130
        }
      ]
    },
    {
      "cell_type": "code",
      "source": [
        "#use the reverse function to reverse the order of elements\n",
        "new_list.reverse()"
      ],
      "metadata": {
        "id": "oF9Xl_Rq6n-W"
      },
      "execution_count": 131,
      "outputs": []
    },
    {
      "cell_type": "code",
      "source": [
        "new_list"
      ],
      "metadata": {
        "colab": {
          "base_uri": "https://localhost:8080/"
        },
        "id": "bel0v8Ga6n8m",
        "outputId": "5db6a36b-aecd-4d42-fe68-7165431578c1"
      },
      "execution_count": 132,
      "outputs": [
        {
          "output_type": "execute_result",
          "data": {
            "text/plain": [
              "['c', 'b', 'x', 'e', 'a']"
            ]
          },
          "metadata": {},
          "execution_count": 132
        }
      ]
    },
    {
      "cell_type": "code",
      "source": [
        "# USe sort to sort the List (in this case alphabetical order, but for numbers it will go ascending)\n",
        "new_list.sort()"
      ],
      "metadata": {
        "id": "3ye7C3h47P6c"
      },
      "execution_count": 133,
      "outputs": []
    },
    {
      "cell_type": "code",
      "source": [
        "new_list.append(1)\n",
        "new_list.append(2)"
      ],
      "metadata": {
        "id": "Prnn87X37P4J"
      },
      "execution_count": 134,
      "outputs": []
    },
    {
      "cell_type": "code",
      "source": [
        "new_list"
      ],
      "metadata": {
        "colab": {
          "base_uri": "https://localhost:8080/"
        },
        "id": "QNR7OyAC7P1m",
        "outputId": "333d6e88-07fd-4715-e0d7-838ca3bcbb43"
      },
      "execution_count": 135,
      "outputs": [
        {
          "output_type": "execute_result",
          "data": {
            "text/plain": [
              "['a', 'b', 'c', 'e', 'x', 1, 2]"
            ]
          },
          "metadata": {},
          "execution_count": 135
        }
      ]
    },
    {
      "cell_type": "code",
      "source": [
        "new_list.pop()\n"
      ],
      "metadata": {
        "colab": {
          "base_uri": "https://localhost:8080/"
        },
        "id": "MRDew9IZ6n6U",
        "outputId": "1ac3c220-4518-4a51-9341-2c39e7341bd2"
      },
      "execution_count": 136,
      "outputs": [
        {
          "output_type": "execute_result",
          "data": {
            "text/plain": [
              "2"
            ]
          },
          "metadata": {},
          "execution_count": 136
        }
      ]
    },
    {
      "cell_type": "code",
      "source": [
        "new_list.pop()"
      ],
      "metadata": {
        "colab": {
          "base_uri": "https://localhost:8080/"
        },
        "id": "VruanuSz6nXy",
        "outputId": "16ac3afd-9173-4f85-e331-44584bde8443"
      },
      "execution_count": 137,
      "outputs": [
        {
          "output_type": "execute_result",
          "data": {
            "text/plain": [
              "1"
            ]
          },
          "metadata": {},
          "execution_count": 137
        }
      ]
    },
    {
      "cell_type": "code",
      "source": [
        "new_list"
      ],
      "metadata": {
        "colab": {
          "base_uri": "https://localhost:8080/"
        },
        "id": "ztVRM4Je6nWY",
        "outputId": "68fca63e-b8e5-41c1-fbb4-f985d06d4e6b"
      },
      "execution_count": 138,
      "outputs": [
        {
          "output_type": "execute_result",
          "data": {
            "text/plain": [
              "['a', 'b', 'c', 'e', 'x']"
            ]
          },
          "metadata": {},
          "execution_count": 138
        }
      ]
    },
    {
      "cell_type": "markdown",
      "source": [
        "## Dictionaries Methods"
      ],
      "metadata": {
        "id": "0IEC_w0a6nUS"
      }
    },
    {
      "cell_type": "code",
      "source": [
        "# Make a dictionary with {} and : to signify aa key and a value\n",
        "my_dict = {'key1':'value1', 'key2':'value2'}"
      ],
      "metadata": {
        "id": "CHCn2q3O6nSS"
      },
      "execution_count": 139,
      "outputs": []
    },
    {
      "cell_type": "code",
      "source": [
        "# It's important to note that dictionaries are very flexible in the data types they can hold\n",
        "my_dict = {'key1':123, 'key2':[12,33,43], 'key3':['item0','item1','item2']}"
      ],
      "metadata": {
        "id": "nobmRMoy94M9"
      },
      "execution_count": 140,
      "outputs": []
    },
    {
      "cell_type": "code",
      "source": [
        "my_dict['key3']"
      ],
      "metadata": {
        "colab": {
          "base_uri": "https://localhost:8080/"
        },
        "id": "4H29RHK194Kt",
        "outputId": "cffec77f-480e-48aa-a2fa-643eb3faab28"
      },
      "execution_count": 141,
      "outputs": [
        {
          "output_type": "execute_result",
          "data": {
            "text/plain": [
              "['item0', 'item1', 'item2']"
            ]
          },
          "metadata": {},
          "execution_count": 141
        }
      ]
    },
    {
      "cell_type": "code",
      "source": [
        "# Can call an index on that value\n",
        "my_dict['key3'][0]"
      ],
      "metadata": {
        "colab": {
          "base_uri": "https://localhost:8080/",
          "height": 35
        },
        "id": "cUx2vWll94JH",
        "outputId": "a2bad93c-82ec-4808-c933-2f62e35c4e41"
      },
      "execution_count": 142,
      "outputs": [
        {
          "output_type": "execute_result",
          "data": {
            "application/vnd.google.colaboratory.intrinsic+json": {
              "type": "string"
            },
            "text/plain": [
              "'item0'"
            ]
          },
          "metadata": {},
          "execution_count": 142
        }
      ]
    },
    {
      "cell_type": "code",
      "source": [
        "# Can then even call methosd on that value\n",
        "my_dict['key3'][0].upper()"
      ],
      "metadata": {
        "colab": {
          "base_uri": "https://localhost:8080/",
          "height": 35
        },
        "id": "UoXD1EVh94G-",
        "outputId": "e5c510ab-629a-46fc-bb73-0bf5dc02190a"
      },
      "execution_count": 143,
      "outputs": [
        {
          "output_type": "execute_result",
          "data": {
            "application/vnd.google.colaboratory.intrinsic+json": {
              "type": "string"
            },
            "text/plain": [
              "'ITEM0'"
            ]
          },
          "metadata": {},
          "execution_count": 143
        }
      ]
    },
    {
      "cell_type": "code",
      "source": [
        "my_dict['key1']"
      ],
      "metadata": {
        "colab": {
          "base_uri": "https://localhost:8080/"
        },
        "id": "2EpMzF40-t5-",
        "outputId": "2d73ee31-26d6-4db7-f75b-c34e967c2f35"
      },
      "execution_count": 144,
      "outputs": [
        {
          "output_type": "execute_result",
          "data": {
            "text/plain": [
              "123"
            ]
          },
          "metadata": {},
          "execution_count": 144
        }
      ]
    },
    {
      "cell_type": "code",
      "source": [
        "# Subtract 123 from the value\n",
        "my_dict['key1'] = my_dict['key1'] - 123"
      ],
      "metadata": {
        "id": "f-yghObJ-t2E"
      },
      "execution_count": 145,
      "outputs": []
    },
    {
      "cell_type": "code",
      "source": [
        "my_dict"
      ],
      "metadata": {
        "colab": {
          "base_uri": "https://localhost:8080/"
        },
        "id": "gnI-r-bL94Er",
        "outputId": "768b9c67-cd7a-4213-d751-e69d2910b9af"
      },
      "execution_count": 146,
      "outputs": [
        {
          "output_type": "execute_result",
          "data": {
            "text/plain": [
              "{'key1': 0, 'key2': [12, 33, 43], 'key3': ['item0', 'item1', 'item2']}"
            ]
          },
          "metadata": {},
          "execution_count": 146
        }
      ]
    },
    {
      "cell_type": "code",
      "source": [
        "# we can also create keys by assignment. For instance if we started off with an empty dictionary, wwe can create a new dictionary\n",
        "d = {}"
      ],
      "metadata": {
        "id": "ehbt2Axl6nQM"
      },
      "execution_count": 147,
      "outputs": []
    },
    {
      "cell_type": "code",
      "source": [
        "d['animal'] = 'Dog'"
      ],
      "metadata": {
        "id": "Nb7sx8Pm_YNS"
      },
      "execution_count": 148,
      "outputs": []
    },
    {
      "cell_type": "code",
      "source": [
        "d['answer'] = 42"
      ],
      "metadata": {
        "id": "toI889j4_YIY"
      },
      "execution_count": 149,
      "outputs": []
    },
    {
      "cell_type": "code",
      "source": [
        "d"
      ],
      "metadata": {
        "colab": {
          "base_uri": "https://localhost:8080/"
        },
        "id": "wYMP9wJi_YBr",
        "outputId": "4713fc5a-3d2e-4e4f-a084-3119f322e7a7"
      },
      "execution_count": 150,
      "outputs": [
        {
          "output_type": "execute_result",
          "data": {
            "text/plain": [
              "{'animal': 'Dog', 'answer': 42}"
            ]
          },
          "metadata": {},
          "execution_count": 150
        }
      ]
    },
    {
      "cell_type": "code",
      "source": [
        "# method to return a list of all keys\n",
        "d.keys()"
      ],
      "metadata": {
        "colab": {
          "base_uri": "https://localhost:8080/"
        },
        "id": "6QY7RWW__X-U",
        "outputId": "7a7955be-94b5-4931-fff1-e656bcd884c0"
      },
      "execution_count": 151,
      "outputs": [
        {
          "output_type": "execute_result",
          "data": {
            "text/plain": [
              "dict_keys(['animal', 'answer'])"
            ]
          },
          "metadata": {},
          "execution_count": 151
        }
      ]
    },
    {
      "cell_type": "code",
      "source": [
        "# method to grab all the values\n",
        "d.values()"
      ],
      "metadata": {
        "colab": {
          "base_uri": "https://localhost:8080/"
        },
        "id": "sxE_clgq_X8j",
        "outputId": "2c9ad471-3875-494d-9a23-1d4ff06d768c"
      },
      "execution_count": 152,
      "outputs": [
        {
          "output_type": "execute_result",
          "data": {
            "text/plain": [
              "dict_values(['Dog', 42])"
            ]
          },
          "metadata": {},
          "execution_count": 152
        }
      ]
    },
    {
      "cell_type": "markdown",
      "source": [
        "# Tuples\n",
        "\n",
        "*In Pytho9n tuples are very similar to lists, however, unlike lists they are immutable, meaning they can not be changed. You would use tuples to present things that shouldn't be changed, such as days of the week, or dates on a calendar"
      ],
      "metadata": {
        "id": "eH3EOkC15LAC"
      }
    },
    {
      "cell_type": "code",
      "source": [
        "# Can create a tuple with mixed types\n",
        "t = (1,2,3)"
      ],
      "metadata": {
        "id": "usSeJXkCAUq2"
      },
      "execution_count": 153,
      "outputs": []
    },
    {
      "cell_type": "code",
      "source": [
        "# Check len just like a liost\n",
        "len(t)"
      ],
      "metadata": {
        "colab": {
          "base_uri": "https://localhost:8080/"
        },
        "id": "I2X-Ie32AUo4",
        "outputId": "9e04228d-a9f5-4eb2-a77b-14a4df28883c"
      },
      "execution_count": 154,
      "outputs": [
        {
          "output_type": "execute_result",
          "data": {
            "text/plain": [
              "3"
            ]
          },
          "metadata": {},
          "execution_count": 154
        }
      ]
    },
    {
      "cell_type": "code",
      "source": [
        "# Can also mix object types\n",
        "t = ('one', 2, 2)\n",
        "\n",
        "# Show\n",
        "t"
      ],
      "metadata": {
        "colab": {
          "base_uri": "https://localhost:8080/"
        },
        "id": "3xWEj0VQAUmb",
        "outputId": "67084114-00e6-4e24-881a-be5471ab5c82"
      },
      "execution_count": 161,
      "outputs": [
        {
          "output_type": "execute_result",
          "data": {
            "text/plain": [
              "('one', 2, 2)"
            ]
          },
          "metadata": {},
          "execution_count": 161
        }
      ]
    },
    {
      "cell_type": "code",
      "source": [
        "# Use uindexing just like we did in lists\n",
        "t[0]"
      ],
      "metadata": {
        "colab": {
          "base_uri": "https://localhost:8080/",
          "height": 35
        },
        "id": "-VYHIf7eOaAM",
        "outputId": "e4a03fe5-1372-4cad-b284-388b7299ca35"
      },
      "execution_count": 162,
      "outputs": [
        {
          "output_type": "execute_result",
          "data": {
            "application/vnd.google.colaboratory.intrinsic+json": {
              "type": "string"
            },
            "text/plain": [
              "'one'"
            ]
          },
          "metadata": {},
          "execution_count": 162
        }
      ]
    },
    {
      "cell_type": "code",
      "source": [
        "# Slicing like in lists as well\n",
        "t[-1]"
      ],
      "metadata": {
        "colab": {
          "base_uri": "https://localhost:8080/"
        },
        "id": "yO49QXWHOZ-P",
        "outputId": "b9057166-12d6-414f-e05a-ff3444f9bb56"
      },
      "execution_count": 163,
      "outputs": [
        {
          "output_type": "execute_result",
          "data": {
            "text/plain": [
              "2"
            ]
          },
          "metadata": {},
          "execution_count": 163
        }
      ]
    },
    {
      "cell_type": "markdown",
      "source": [
        "## Tuple Methods"
      ],
      "metadata": {
        "id": "971rVAv8OZ8R"
      }
    },
    {
      "cell_type": "code",
      "source": [
        "t.index('one')"
      ],
      "metadata": {
        "colab": {
          "base_uri": "https://localhost:8080/"
        },
        "id": "cEz0npdLPYLq",
        "outputId": "031b68a5-c262-4b90-9307-bfd0bc7fe64f"
      },
      "execution_count": 164,
      "outputs": [
        {
          "output_type": "execute_result",
          "data": {
            "text/plain": [
              "0"
            ]
          },
          "metadata": {},
          "execution_count": 164
        }
      ]
    },
    {
      "cell_type": "code",
      "source": [
        "# Use the count method to count the number of times a value appears\n",
        "t.count('one')"
      ],
      "metadata": {
        "colab": {
          "base_uri": "https://localhost:8080/"
        },
        "id": "W6BHWGvLPYJz",
        "outputId": "7d38c9de-c96d-4c70-f755-b10f921530aa"
      },
      "execution_count": 165,
      "outputs": [
        {
          "output_type": "execute_result",
          "data": {
            "text/plain": [
              "1"
            ]
          },
          "metadata": {},
          "execution_count": 165
        }
      ]
    },
    {
      "cell_type": "code",
      "source": [
        "t.count(2)"
      ],
      "metadata": {
        "colab": {
          "base_uri": "https://localhost:8080/"
        },
        "id": "sxvrks1XPYHZ",
        "outputId": "ef11ddd9-ff17-4ca5-d6c2-07593f9959cd"
      },
      "execution_count": 166,
      "outputs": [
        {
          "output_type": "execute_result",
          "data": {
            "text/plain": [
              "2"
            ]
          },
          "metadata": {},
          "execution_count": 166
        }
      ]
    },
    {
      "cell_type": "markdown",
      "source": [
        "## Immutability\n",
        "*It can't be stressed enough that tuples are immutable"
      ],
      "metadata": {
        "id": "SFfncL8iOZ6a"
      }
    },
    {
      "cell_type": "code",
      "source": [
        "# Trying to change a value throws an error because of the tuples immutability\n",
        "#t[0] = 'change'"
      ],
      "metadata": {
        "id": "suXhkLnxOZ4j"
      },
      "execution_count": 169,
      "outputs": []
    },
    {
      "cell_type": "code",
      "source": [
        "# Because of this, tuples can't grow. Once a tuple is made we can not add to it. \n",
        "#t.append('nope')"
      ],
      "metadata": {
        "id": "brRHJ2EAOZ2T"
      },
      "execution_count": 168,
      "outputs": []
    }
  ]
}