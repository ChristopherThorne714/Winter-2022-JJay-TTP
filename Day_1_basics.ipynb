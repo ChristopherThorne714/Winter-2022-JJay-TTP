{
  "nbformat": 4,
  "nbformat_minor": 0,
  "metadata": {
    "colab": {
      "name": "Day 1 basics.ipynb",
      "provenance": [],
      "collapsed_sections": [
        "8bzWOVIT0NwM",
        "wG2uyuv_i3eE",
        "cs-hUEnZ01jL",
        "_rueL4jK7kV6",
        "Gpz2Zqawcl-r"
      ],
      "authorship_tag": "ABX9TyPVFsg3qADNR5/TbWXJ53Pc",
      "include_colab_link": true
    },
    "kernelspec": {
      "name": "python3",
      "display_name": "Python 3"
    },
    "language_info": {
      "name": "python"
    }
  },
  "cells": [
    {
      "cell_type": "markdown",
      "metadata": {
        "id": "view-in-github",
        "colab_type": "text"
      },
      "source": [
        "<a href=\"https://colab.research.google.com/github/ChristopherThorne714/Winter-2022-JJay-TTP/blob/main/Day_1_basics.ipynb\" target=\"_parent\"><img src=\"https://colab.research.google.com/assets/colab-badge.svg\" alt=\"Open In Colab\"/></a>"
      ]
    },
    {
      "cell_type": "markdown",
      "source": [
        "# Hello Python"
      ],
      "metadata": {
        "id": "8bzWOVIT0NwM"
      }
    },
    {
      "cell_type": "code",
      "execution_count": null,
      "metadata": {
        "colab": {
          "base_uri": "https://localhost:8080/"
        },
        "id": "vGAR852ihLJG",
        "outputId": "44806dd2-2006-4de3-accf-ddf66ab6c7f0"
      },
      "outputs": [
        {
          "output_type": "stream",
          "name": "stdout",
          "text": [
            "Hello There\n"
          ]
        }
      ],
      "source": [
        "print('Hello There')"
      ]
    },
    {
      "cell_type": "code",
      "source": [
        "import this"
      ],
      "metadata": {
        "id": "bDa9yGxvimMR",
        "colab": {
          "base_uri": "https://localhost:8080/"
        },
        "outputId": "1f3e3ed3-df15-4efe-c740-5adb693484aa"
      },
      "execution_count": null,
      "outputs": [
        {
          "output_type": "stream",
          "name": "stdout",
          "text": [
            "The Zen of Python, by Tim Peters\n",
            "\n",
            "Beautiful is better than ugly.\n",
            "Explicit is better than implicit.\n",
            "Simple is better than complex.\n",
            "Complex is better than complicated.\n",
            "Flat is better than nested.\n",
            "Sparse is better than dense.\n",
            "Readability counts.\n",
            "Special cases aren't special enough to break the rules.\n",
            "Although practicality beats purity.\n",
            "Errors should never pass silently.\n",
            "Unless explicitly silenced.\n",
            "In the face of ambiguity, refuse the temptation to guess.\n",
            "There should be one-- and preferably only one --obvious way to do it.\n",
            "Although that way may not be obvious at first unless you're Dutch.\n",
            "Now is better than never.\n",
            "Although never is often better than *right* now.\n",
            "If the implementation is hard to explain, it's a bad idea.\n",
            "If the implementation is easy to explain, it may be a good idea.\n",
            "Namespaces are one honking great idea -- let's do more of those!\n"
          ]
        }
      ]
    },
    {
      "cell_type": "markdown",
      "source": [
        "#string Basics"
      ],
      "metadata": {
        "id": "wG2uyuv_i3eE"
      }
    },
    {
      "cell_type": "code",
      "source": [
        "'This is a string'\n",
        "s = 'This is a string'\n",
        "len(s)"
      ],
      "metadata": {
        "colab": {
          "base_uri": "https://localhost:8080/"
        },
        "id": "RBNBq4sg0el6",
        "outputId": "11c6a8bd-410b-4c02-bcf1-a080e025b8a1"
      },
      "execution_count": null,
      "outputs": [
        {
          "output_type": "execute_result",
          "data": {
            "text/plain": [
              "16"
            ]
          },
          "metadata": {},
          "execution_count": 4
        }
      ]
    },
    {
      "cell_type": "code",
      "source": [
        "'here is another string'\n",
        "f = 'here is another string'\n",
        "len(f)"
      ],
      "metadata": {
        "colab": {
          "base_uri": "https://localhost:8080/"
        },
        "id": "BxMHBHse0e5S",
        "outputId": "dc10a5aa-067b-4072-d662-f8d452f6d11e"
      },
      "execution_count": null,
      "outputs": [
        {
          "output_type": "execute_result",
          "data": {
            "text/plain": [
              "22"
            ]
          },
          "metadata": {},
          "execution_count": 5
        }
      ]
    },
    {
      "cell_type": "code",
      "source": [
        "'I have a third string'\n",
        "l = 'I have a third string'\n",
        "len(l)"
      ],
      "metadata": {
        "colab": {
          "base_uri": "https://localhost:8080/"
        },
        "id": "xst7I66K0fOU",
        "outputId": "cb7b5b96-819f-4840-de44-000a44c129a2"
      },
      "execution_count": null,
      "outputs": [
        {
          "output_type": "execute_result",
          "data": {
            "text/plain": [
              "21"
            ]
          },
          "metadata": {},
          "execution_count": 6
        }
      ]
    },
    {
      "cell_type": "code",
      "source": [
        "h = 'here is my fourth'\n",
        "len(h)"
      ],
      "metadata": {
        "colab": {
          "base_uri": "https://localhost:8080/"
        },
        "id": "KQEp8GlH0f26",
        "outputId": "8bc842fe-bf5d-4c4b-9479-06113f003e6b"
      },
      "execution_count": null,
      "outputs": [
        {
          "output_type": "execute_result",
          "data": {
            "text/plain": [
              "17"
            ]
          },
          "metadata": {},
          "execution_count": 7
        }
      ]
    },
    {
      "cell_type": "code",
      "source": [
        "a = 'and the best for last'\n",
        "len(a)"
      ],
      "metadata": {
        "colab": {
          "base_uri": "https://localhost:8080/"
        },
        "id": "uu3EnM9Y0gIi",
        "outputId": "a2b96bf1-af7c-4cdb-a0a3-a72a50e9b526"
      },
      "execution_count": null,
      "outputs": [
        {
          "output_type": "execute_result",
          "data": {
            "text/plain": [
              "21"
            ]
          },
          "metadata": {},
          "execution_count": 8
        }
      ]
    },
    {
      "cell_type": "markdown",
      "source": [
        "## String Indexing\n",
        "# Python can use indexes to call parts of the sequence. Let's learn how this works.\n",
        "# In Python, we use brackets [] after an object to call its index. We should also note that indexing starts at 0 for Python. Let's create a new object called s and then walk through a few examples of indexing. "
      ],
      "metadata": {
        "id": "cs-hUEnZ01jL"
      }
    },
    {
      "cell_type": "code",
      "source": [
        "# Print the object\n",
        "print(s)"
      ],
      "metadata": {
        "colab": {
          "base_uri": "https://localhost:8080/"
        },
        "id": "itacnMTa1IpG",
        "outputId": "5dae8acd-fc01-45fa-ad1d-0f97d5a11db8"
      },
      "execution_count": null,
      "outputs": [
        {
          "output_type": "stream",
          "name": "stdout",
          "text": [
            "This is a string\n"
          ]
        }
      ]
    },
    {
      "cell_type": "code",
      "source": [
        "# Show first element (in this case the first letter)\n",
        "s[0]"
      ],
      "metadata": {
        "colab": {
          "base_uri": "https://localhost:8080/"
        },
        "id": "XiNe134E1JG6",
        "outputId": "614d76b3-d0aa-453a-c7ae-c426d4aca83b"
      },
      "execution_count": null,
      "outputs": [
        {
          "output_type": "execute_result",
          "data": {
            "application/vnd.google.colaboratory.intrinsic+json": {
              "type": "string"
            },
            "text/plain": [
              "'T'"
            ]
          },
          "metadata": {},
          "execution_count": 10
        }
      ]
    },
    {
      "cell_type": "code",
      "source": [
        "# Show the second element of the string\n",
        "s[1]"
      ],
      "metadata": {
        "colab": {
          "base_uri": "https://localhost:8080/"
        },
        "id": "kF0IYZ111eTm",
        "outputId": "30909391-4f7b-491a-e13a-d47d83a8b33c"
      },
      "execution_count": null,
      "outputs": [
        {
          "output_type": "execute_result",
          "data": {
            "application/vnd.google.colaboratory.intrinsic+json": {
              "type": "string"
            },
            "text/plain": [
              "'h'"
            ]
          },
          "metadata": {},
          "execution_count": 11
        }
      ]
    },
    {
      "cell_type": "code",
      "source": [
        "# Show the third element of the string\n",
        "s[2]"
      ],
      "metadata": {
        "colab": {
          "base_uri": "https://localhost:8080/"
        },
        "id": "gjc1D1zL1eor",
        "outputId": "47072a42-8a4f-49f9-cbd9-d46333c78795"
      },
      "execution_count": null,
      "outputs": [
        {
          "output_type": "execute_result",
          "data": {
            "application/vnd.google.colaboratory.intrinsic+json": {
              "type": "string"
            },
            "text/plain": [
              "'i'"
            ]
          },
          "metadata": {},
          "execution_count": 12
        }
      ]
    },
    {
      "cell_type": "code",
      "source": [
        "# Show the fourth\n",
        "s[3]"
      ],
      "metadata": {
        "colab": {
          "base_uri": "https://localhost:8080/"
        },
        "id": "wE9cw39Q1s7Q",
        "outputId": "4f358f55-5a82-4e0e-cff3-60c82d43c83c"
      },
      "execution_count": null,
      "outputs": [
        {
          "output_type": "execute_result",
          "data": {
            "application/vnd.google.colaboratory.intrinsic+json": {
              "type": "string"
            },
            "text/plain": [
              "'s'"
            ]
          },
          "metadata": {},
          "execution_count": 13
        }
      ]
    },
    {
      "cell_type": "code",
      "source": [
        "# show the fifth and so on...\n",
        "s[4]"
      ],
      "metadata": {
        "colab": {
          "base_uri": "https://localhost:8080/"
        },
        "id": "fnOS8qQ27UPl",
        "outputId": "f0c3e634-fca5-46ee-b95c-9c91d65bf267"
      },
      "execution_count": null,
      "outputs": [
        {
          "output_type": "execute_result",
          "data": {
            "application/vnd.google.colaboratory.intrinsic+json": {
              "type": "string"
            },
            "text/plain": [
              "' '"
            ]
          },
          "metadata": {},
          "execution_count": 14
        }
      ]
    },
    {
      "cell_type": "markdown",
      "source": [
        "## Concatenation of strings"
      ],
      "metadata": {
        "id": "_rueL4jK7kV6"
      }
    },
    {
      "cell_type": "code",
      "source": [
        "greeting =  \"Hello\"\n",
        "name = \"Mark\"\n",
        "print(greeting + name)\n",
        "print(greeting + \" \" + name)"
      ],
      "metadata": {
        "colab": {
          "base_uri": "https://localhost:8080/"
        },
        "id": "RLeIxaBT7k3U",
        "outputId": "5db3848a-8c62-4339-be23-de2ec9bcb71e"
      },
      "execution_count": null,
      "outputs": [
        {
          "output_type": "stream",
          "name": "stdout",
          "text": [
            "HelloMark\n",
            "Hello Mark\n"
          ]
        }
      ]
    },
    {
      "cell_type": "code",
      "source": [
        ""
      ],
      "metadata": {
        "id": "fmjj7l4W7k01"
      },
      "execution_count": null,
      "outputs": []
    },
    {
      "cell_type": "markdown",
      "source": [
        "# input function"
      ],
      "metadata": {
        "id": "Gpz2Zqawcl-r"
      }
    },
    {
      "cell_type": "code",
      "source": [
        "greeting = \"Hello\"\n",
        "name = input(\"What is your sweet name?  \")\n",
        "print(greeting + \" \" + name)"
      ],
      "metadata": {
        "colab": {
          "base_uri": "https://localhost:8080/"
        },
        "id": "YsLrTf9wcl2L",
        "outputId": "fe98bcbe-b69a-4e8d-8d6b-e76afb9a07fb"
      },
      "execution_count": null,
      "outputs": [
        {
          "output_type": "stream",
          "name": "stdout",
          "text": [
            "What is your sweet name?  Chris\n",
            "Hello Chris\n"
          ]
        }
      ]
    },
    {
      "cell_type": "code",
      "source": [
        "name"
      ],
      "metadata": {
        "colab": {
          "base_uri": "https://localhost:8080/",
          "height": 35
        },
        "id": "vbyWXsvn7kwf",
        "outputId": "1c175ca2-16fd-4ef4-f432-80d8351c987a"
      },
      "execution_count": null,
      "outputs": [
        {
          "output_type": "execute_result",
          "data": {
            "application/vnd.google.colaboratory.intrinsic+json": {
              "type": "string"
            },
            "text/plain": [
              "'Chris'"
            ]
          },
          "metadata": {},
          "execution_count": 17
        }
      ]
    },
    {
      "cell_type": "code",
      "source": [
        "name = input(\"What's your name? \")\n",
        "age = input(\"How old are you?\")\n",
        "location = input(\"What city are you in?\")\n",
        "print(\"Hello \" + age + \" year old \" + name + \" from \" + location)\n",
        "print(f'hello, {age} year old {name} from {location}')\n",
        "print('hello, {} year old {} from {}'.format(age, name, location))"
      ],
      "metadata": {
        "colab": {
          "base_uri": "https://localhost:8080/"
        },
        "id": "jcrRYyih7kos",
        "outputId": "d3a1322d-831d-4e60-b3ec-607a8e817783"
      },
      "execution_count": null,
      "outputs": [
        {
          "output_type": "stream",
          "name": "stdout",
          "text": [
            "What's your name? Chris\n",
            "How old are you?21\n",
            "What city are you in?Brooklyn\n",
            "Hello 21 year old Chris from Brooklyn\n",
            "hello, 21 year old Chris from Brooklyn\n",
            "hello, 21 year old Chris from Brooklyn\n"
          ]
        }
      ]
    },
    {
      "cell_type": "code",
      "source": [
        "print(\"My headache is killer right now\")"
      ],
      "metadata": {
        "colab": {
          "base_uri": "https://localhost:8080/"
        },
        "id": "I-cqU4svewF3",
        "outputId": "02805073-b239-4456-cf0b-e678c3067e56"
      },
      "execution_count": null,
      "outputs": [
        {
          "output_type": "stream",
          "name": "stdout",
          "text": [
            "My headache is killer right now\n"
          ]
        }
      ]
    },
    {
      "cell_type": "code",
      "source": [
        "print('The colors are {} {} {} '.format(\"red\", \"Green\", \"Blue\"))"
      ],
      "metadata": {
        "colab": {
          "base_uri": "https://localhost:8080/"
        },
        "id": "4e4tNqDZewDp",
        "outputId": "2955932c-f7e9-4c72-faab-405d556f4960"
      },
      "execution_count": null,
      "outputs": [
        {
          "output_type": "stream",
          "name": "stdout",
          "text": [
            "The colors are red Green Blue \n"
          ]
        }
      ]
    },
    {
      "cell_type": "code",
      "source": [
        "print('The colors are {0} {1} {2} '.format(\"red\", \"Green\", \"Blue\"))"
      ],
      "metadata": {
        "colab": {
          "base_uri": "https://localhost:8080/"
        },
        "id": "R3rTbxONewBu",
        "outputId": "7fa29315-68df-4820-eaeb-7bc1bf5892b1"
      },
      "execution_count": null,
      "outputs": [
        {
          "output_type": "stream",
          "name": "stdout",
          "text": [
            "The colors are red Green Blue \n"
          ]
        }
      ]
    },
    {
      "cell_type": "code",
      "source": [
        "print('The colors are {0} {0} {0} '.format(\"red\", \"Green\", \"Blue\"))"
      ],
      "metadata": {
        "colab": {
          "base_uri": "https://localhost:8080/"
        },
        "id": "_gdrpWBYev_8",
        "outputId": "c0da9136-471d-454a-ac9a-8eb57ddb7f3b"
      },
      "execution_count": null,
      "outputs": [
        {
          "output_type": "stream",
          "name": "stdout",
          "text": [
            "The colors are red red red \n"
          ]
        }
      ]
    },
    {
      "cell_type": "code",
      "source": [
        "print('The colors are {r} {g} {b} '.format(r=\"red\", g=\"Green\", b=\"Blue\"))"
      ],
      "metadata": {
        "colab": {
          "base_uri": "https://localhost:8080/"
        },
        "id": "Hy0aAeYmhoY1",
        "outputId": "c7d1a1d5-f36d-4a21-9385-40e2fc2d2252"
      },
      "execution_count": null,
      "outputs": [
        {
          "output_type": "stream",
          "name": "stdout",
          "text": [
            "The colors are red Green Blue \n"
          ]
        }
      ]
    },
    {
      "cell_type": "code",
      "source": [
        ""
      ],
      "metadata": {
        "id": "yxnhyHm1i0Jj"
      },
      "execution_count": null,
      "outputs": []
    },
    {
      "cell_type": "markdown",
      "source": [
        "# Numbers"
      ],
      "metadata": {
        "id": "2eQZ6V4XhoWb"
      }
    },
    {
      "cell_type": "code",
      "source": [
        "# assign a variable to a value\n",
        "a = 14\n",
        "print(a)"
      ],
      "metadata": {
        "colab": {
          "base_uri": "https://localhost:8080/"
        },
        "id": "jT9z52bLi9sT",
        "outputId": "e5252690-1d8d-42d3-a9e8-b8ab362bf87c"
      },
      "execution_count": null,
      "outputs": [
        {
          "output_type": "stream",
          "name": "stdout",
          "text": [
            "14\n"
          ]
        }
      ]
    },
    {
      "cell_type": "code",
      "source": [
        "b=4\n",
        "print(b)"
      ],
      "metadata": {
        "colab": {
          "base_uri": "https://localhost:8080/"
        },
        "id": "1_P7Z_BBjfOV",
        "outputId": "23d13253-736a-4e98-fcd7-9b6fdf11797c"
      },
      "execution_count": null,
      "outputs": [
        {
          "output_type": "stream",
          "name": "stdout",
          "text": [
            "4\n"
          ]
        }
      ]
    },
    {
      "cell_type": "code",
      "source": [
        "# performing basic math operations\n",
        "print(a+b)"
      ],
      "metadata": {
        "colab": {
          "base_uri": "https://localhost:8080/"
        },
        "id": "UxZyzi0VjfMH",
        "outputId": "1a1184ae-2621-4736-f5b2-6ef76feaf208"
      },
      "execution_count": null,
      "outputs": [
        {
          "output_type": "stream",
          "name": "stdout",
          "text": [
            "18\n"
          ]
        }
      ]
    },
    {
      "cell_type": "code",
      "source": [
        "print(a-b)"
      ],
      "metadata": {
        "colab": {
          "base_uri": "https://localhost:8080/"
        },
        "id": "Rs080B-njfKX",
        "outputId": "5aba6bfd-7959-4e7b-fc94-8f16963bf40f"
      },
      "execution_count": null,
      "outputs": [
        {
          "output_type": "stream",
          "name": "stdout",
          "text": [
            "10\n"
          ]
        }
      ]
    },
    {
      "cell_type": "code",
      "source": [
        "print(a*b)"
      ],
      "metadata": {
        "colab": {
          "base_uri": "https://localhost:8080/"
        },
        "id": "l4o5rO9QjfHb",
        "outputId": "dab1b130-f4d4-41e3-ea35-ad7dbaf40ab6"
      },
      "execution_count": null,
      "outputs": [
        {
          "output_type": "stream",
          "name": "stdout",
          "text": [
            "56\n"
          ]
        }
      ]
    },
    {
      "cell_type": "code",
      "source": [
        "print(a/b)"
      ],
      "metadata": {
        "colab": {
          "base_uri": "https://localhost:8080/"
        },
        "id": "kIAsn5oihoT_",
        "outputId": "9c946369-1d32-43ed-f5a6-53a04fe6b6ed"
      },
      "execution_count": null,
      "outputs": [
        {
          "output_type": "stream",
          "name": "stdout",
          "text": [
            "3.5\n"
          ]
        }
      ]
    },
    {
      "cell_type": "code",
      "source": [
        "# division excluding the remainder\n",
        "print(a//b)"
      ],
      "metadata": {
        "id": "9c6sMH3ahoOk",
        "colab": {
          "base_uri": "https://localhost:8080/"
        },
        "outputId": "c953b8a8-0681-4bde-d572-33a442a14d7b"
      },
      "execution_count": null,
      "outputs": [
        {
          "output_type": "stream",
          "name": "stdout",
          "text": [
            "3\n"
          ]
        }
      ]
    },
    {
      "cell_type": "code",
      "source": [
        "# multiplying by a power\n",
        "print(a**b)"
      ],
      "metadata": {
        "id": "G2huvGyFjvFY",
        "colab": {
          "base_uri": "https://localhost:8080/"
        },
        "outputId": "97a4972c-fd14-48bd-bc98-dcec28a0fe53"
      },
      "execution_count": null,
      "outputs": [
        {
          "output_type": "stream",
          "name": "stdout",
          "text": [
            "38416\n"
          ]
        }
      ]
    },
    {
      "cell_type": "code",
      "source": [
        ""
      ],
      "metadata": {
        "id": "j5sNnSqcjvDV"
      },
      "execution_count": null,
      "outputs": []
    },
    {
      "cell_type": "code",
      "source": [
        ""
      ],
      "metadata": {
        "id": "v0FplzjljvBf"
      },
      "execution_count": null,
      "outputs": []
    },
    {
      "cell_type": "code",
      "source": [
        ""
      ],
      "metadata": {
        "id": "e2TplshOju_X"
      },
      "execution_count": null,
      "outputs": []
    },
    {
      "cell_type": "code",
      "source": [
        ""
      ],
      "metadata": {
        "id": "1EjHAQmeju5X"
      },
      "execution_count": null,
      "outputs": []
    }
  ]
}